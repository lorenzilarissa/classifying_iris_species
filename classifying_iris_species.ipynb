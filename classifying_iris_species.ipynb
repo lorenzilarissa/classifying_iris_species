{
 "cells": [
  {
   "cell_type": "markdown",
   "id": "44654cb9",
   "metadata": {},
   "source": [
    "A simple machine learning application"
   ]
  },
  {
   "cell_type": "code",
   "execution_count": null,
   "id": "33bf46a6",
   "metadata": {},
   "outputs": [],
   "source": [
    "import numpy as np\n",
    "import matplotlib as plt\n",
    "import pandas as pd\n",
    "import mglearn\n",
    "from IPython.display import display\n",
    "import sys"
   ]
  },
  {
   "cell_type": "code",
   "execution_count": null,
   "id": "4c459b81",
   "metadata": {},
   "outputs": [],
   "source": [
    "from sklearn.datasets import load_iris\n",
    "iris_dataset = load_iris()"
   ]
  },
  {
   "cell_type": "code",
   "execution_count": null,
   "id": "9ba7fd80",
   "metadata": {},
   "outputs": [],
   "source": [
    "print('Keys of iris_dataset:\\n', iris_dataset.keys())"
   ]
  },
  {
   "cell_type": "code",
   "execution_count": null,
   "id": "79907ced",
   "metadata": {},
   "outputs": [],
   "source": [
    "print(iris_dataset['DESCR'][:193] + '\\n...')"
   ]
  },
  {
   "cell_type": "code",
   "execution_count": null,
   "id": "3ad3a1f1",
   "metadata": {},
   "outputs": [],
   "source": [
    "print('Target names: ', iris_dataset['target_names'])"
   ]
  },
  {
   "cell_type": "code",
   "execution_count": null,
   "id": "ca9dd105",
   "metadata": {},
   "outputs": [],
   "source": [
    "print('Feature names:\\n', iris_dataset['feature_names'])"
   ]
  },
  {
   "cell_type": "code",
   "execution_count": null,
   "id": "fe24a149",
   "metadata": {},
   "outputs": [],
   "source": [
    "print('Type of data: ', type(iris_dataset['data']))"
   ]
  },
  {
   "cell_type": "code",
   "execution_count": null,
   "id": "367ebded",
   "metadata": {},
   "outputs": [],
   "source": [
    "print('Shape of data: ', iris_dataset['data'].shape)"
   ]
  },
  {
   "cell_type": "code",
   "execution_count": null,
   "id": "dc61b6a5",
   "metadata": {},
   "outputs": [],
   "source": [
    "print('First five rows of data:\\n', iris_dataset['data'][:5])"
   ]
  },
  {
   "cell_type": "code",
   "execution_count": null,
   "id": "c948446a",
   "metadata": {},
   "outputs": [],
   "source": [
    "print('Type of target: ', type(iris_dataset['target']))"
   ]
  },
  {
   "cell_type": "code",
   "execution_count": null,
   "id": "82ca8348",
   "metadata": {},
   "outputs": [],
   "source": [
    "print('Shape of target: ', iris_dataset['target'].shape)"
   ]
  },
  {
   "cell_type": "code",
   "execution_count": null,
   "id": "2785ba52",
   "metadata": {},
   "outputs": [],
   "source": [
    "print('Target:\\n', iris_dataset['target'])"
   ]
  },
  {
   "cell_type": "markdown",
   "id": "d1dbfb19",
   "metadata": {},
   "source": [
    "Training and testing"
   ]
  },
  {
   "cell_type": "code",
   "execution_count": null,
   "id": "559925c6",
   "metadata": {},
   "outputs": [],
   "source": [
    "from sklearn.model_selection import train_test_split\n",
    "\n",
    "X_train, X_test, y_train, y_test = train_test_split(\n",
    "    iris_dataset['data'], iris_dataset['target'], random_state = 0)"
   ]
  },
  {
   "cell_type": "code",
   "execution_count": null,
   "id": "189728f3",
   "metadata": {},
   "outputs": [],
   "source": [
    "print('X_train shape: ', X_train.shape)\n",
    "print('y_train shape: ', y_train.shape)"
   ]
  },
  {
   "cell_type": "code",
   "execution_count": null,
   "id": "974e1ff0",
   "metadata": {},
   "outputs": [],
   "source": [
    "print('X_test shape: ', X_test.shape)\n",
    "print('y_test shape: ', y_test.shape)"
   ]
  },
  {
   "cell_type": "code",
   "execution_count": null,
   "id": "0af34484",
   "metadata": {},
   "outputs": [],
   "source": [
    "iris_dataframe = pd.DataFrame(X_train, columns = iris_dataset.feature_names)\n",
    "\n",
    "pd.plotting.scatter_matrix(\n",
    "                            iris_dataframe\n",
    "                          , c = y_train\n",
    "                          , figsize = (15, 15)\n",
    "                          , marker = 'o'\n",
    "                          , hist_kwds = {'bins': 20}\n",
    "                          , s = 60\n",
    "                          , alpha = .8\n",
    "                          , cmap = mglearn.cm3\n",
    "                          )"
   ]
  }
 ],
 "metadata": {
  "kernelspec": {
   "display_name": "Python 3 (ipykernel)",
   "language": "python",
   "name": "python3"
  },
  "language_info": {
   "codemirror_mode": {
    "name": "ipython",
    "version": 3
   },
   "file_extension": ".py",
   "mimetype": "text/x-python",
   "name": "python",
   "nbconvert_exporter": "python",
   "pygments_lexer": "ipython3",
   "version": "3.9.7"
  }
 },
 "nbformat": 4,
 "nbformat_minor": 5
}
